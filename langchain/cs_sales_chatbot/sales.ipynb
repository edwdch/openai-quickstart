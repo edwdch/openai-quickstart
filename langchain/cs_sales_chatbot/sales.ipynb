{
 "cells": [
  {
   "cell_type": "markdown",
   "id": "69032b4b-b031-4020-beb0-e8dfd22b660e",
   "metadata": {},
   "source": "# LangChain 实战：CargoSmart 聊天客服"
  },
  {
   "cell_type": "markdown",
   "id": "0f3e2d5a-c2ff-4faf-b153-d1751c25fae0",
   "metadata": {},
   "source": [
    "## 使用 GPT-4 构造聊天话术数据\n",
    "\n",
    "使用 ChatGPT 构造聊天数据的 Prompt：\n",
    "\n",
    "```\n",
    "你是 CargoSmart 公司的客服专员，现在培训职场新人，请给出 100 条实用的客户回复话术。\n",
    "\n",
    "每条回复话术以如下格式给出：\n",
    "[客户问题]\n",
    "[销售回答]\n",
    "\n",
    "```\n",
    "\n",
    "GPT-4 回复结果：\n",
    "\n",
    "```\n",
    "以下是针对不同客户问题的20条实用客户回复话术，这些话术有助于提升客户服务体验并有效解决问题：\n",
    "\n",
    "[客户问题] 我的货物迟到了，这会严重影响我的业务，你们能做些什么？\n",
    "[销售回答] 我非常理解您的紧急情况，对于造成的不便我深表歉意。我将立即查看具体情况，并尽快向您反馈可能的最快解决方案。\n",
    "\n",
    "[客户问题] 我可以在哪里查看我的货物状态？\n",
    "[销售回答] 您可以通过我们的在线追踪系统查看您货物的最新状态，我也可以帮您查询并提供详细信息。\n",
    "\n",
    "[客户问题] 你们的价格比其他公司高，为什么我还应该选择你们？\n",
    "[销售回答] 我们的服务确实在市场上属于优质范畴，我们提供的不仅是运输，还包括全方位的客户支持和高效的问题解决方案，这在长远来看将为您节省更多成本和时间。\n",
    "\n",
    "[客户问题] 如果我想更改订单怎么办？\n",
    "[销售回答] 更改订单非常简单。您只需要告诉我具体的更改需求，我会立即为您处理。\n",
    "\n",
    "[客户问题] 你们提供哪些类型的运输服务？\n",
    "[销售回答] 我们提供多种运输服务，包括海运、空运和陆运等，根据您的具体需求，我们可以提供最合适的运输解决方案。\n",
    "\n",
    "[客户问题] 我可以取消订单吗？\n",
    "[销售回答] 是的，您可以取消订单。请告诉我您的订单号，我将帮助您处理取消流程。\n",
    "\n",
    "[客户问题] 我的货物受损了，我该怎么办？\n",
    "[销售回答] 对于您的货物受损，我们感到非常抱歉。请您提供损坏的详细信息和照片，我们将启动理赔流程，尽快为您解决问题。\n",
    "\n",
    "[客户问题] 你们的服务有哪些保障措施？\n",
    "[销售回答] 我们为所有服务提供保障措施，包括货物保险、实时追踪以及24小时客户服务支持，确保您的货物安全及时到达。\n",
    "\n",
    "[客户问题] 我怎样才能得到更好的运费报价？\n",
    "[销售回答] 我们可以根据您的货物量和运输需求提供个性化报价。请告诉我更多关于您的需求，我将为您计算最优惠的价格。\n",
    "\n",
    "[客户问题] 你们的运输时间是多久？\n",
    "[销售回答] 运输时间根据不同的目的地和运输方式会有所不同。请告诉我具体的目的地，我将为您提供一个预估的时间表。\n",
    "```\n",
    "\n",
    "## 使用 Document Transformers 模块来处理原始数据\n",
    "\n",
    "将 ChatGPT 生成的结果保存到 [customer_service_specialist_data](customer_service_specialist_data) 文件中"
   ]
  },
  {
   "cell_type": "code",
   "id": "efcee928-b9f4-4e4a-b9fb-f6cbee21b642",
   "metadata": {
    "ExecuteTime": {
     "end_time": "2024-07-17T15:09:08.697683Z",
     "start_time": "2024-07-17T15:09:08.688730Z"
    }
   },
   "source": [
    "with open(\"customer_service_specialist_data.txt\", \"r\", encoding=\"utf-8\") as f:\n",
    "    customer_service_specialist_data = f.read()"
   ],
   "outputs": [],
   "execution_count": 1
  },
  {
   "cell_type": "code",
   "id": "dbe535b8-2bd8-4c31-91d7-eba8aa61b3ef",
   "metadata": {
    "ExecuteTime": {
     "end_time": "2024-07-17T15:09:08.946302Z",
     "start_time": "2024-07-17T15:09:08.698678Z"
    }
   },
   "source": [
    "from langchain.text_splitter import CharacterTextSplitter"
   ],
   "outputs": [],
   "execution_count": 2
  },
  {
   "cell_type": "code",
   "id": "a4f30d9b-9fc6-4860-a497-0aa8220b9284",
   "metadata": {
    "ExecuteTime": {
     "end_time": "2024-07-17T15:09:08.961269Z",
     "start_time": "2024-07-17T15:09:08.947299Z"
    }
   },
   "source": [
    "text_splitter = CharacterTextSplitter(        \n",
    "    separator = r'\\d+\\.',\n",
    "    chunk_size = 120,\n",
    "    chunk_overlap  = 0,\n",
    "    length_function = len,\n",
    "    is_separator_regex = True,\n",
    ")"
   ],
   "outputs": [],
   "execution_count": 3
  },
  {
   "cell_type": "code",
   "id": "530f3172-17a5-4924-ad17-284fbca422ae",
   "metadata": {
    "ExecuteTime": {
     "end_time": "2024-07-17T15:09:08.992704Z",
     "start_time": "2024-07-17T15:09:08.961269Z"
    }
   },
   "source": "docs = text_splitter.create_documents([customer_service_specialist_data])",
   "outputs": [],
   "execution_count": 4
  },
  {
   "cell_type": "code",
   "id": "3956ec36-706e-4f43-88fc-d704f2984290",
   "metadata": {
    "ExecuteTime": {
     "end_time": "2024-07-17T15:09:09.008177Z",
     "start_time": "2024-07-17T15:09:08.993701Z"
    }
   },
   "source": [
    "docs[0]"
   ],
   "outputs": [
    {
     "data": {
      "text/plain": [
       "Document(page_content='[客户问题] 我的货物迟到了，这会严重影响我的业务，你们能做些什么？\\n[销售回答] 我非常理解您的紧急情况，对于造成的不便我深表歉意。我将立即查看具体情况，并尽快向您反馈可能的最快解决方案。')"
      ]
     },
     "execution_count": 5,
     "metadata": {},
     "output_type": "execute_result"
    }
   ],
   "execution_count": 5
  },
  {
   "cell_type": "code",
   "id": "73b2d47a-27ae-4cd4-a72a-3809b4c22bff",
   "metadata": {
    "ExecuteTime": {
     "end_time": "2024-07-17T15:09:09.023613Z",
     "start_time": "2024-07-17T15:09:09.009174Z"
    }
   },
   "source": [
    "len(docs)"
   ],
   "outputs": [
    {
     "data": {
      "text/plain": [
       "80"
      ]
     },
     "execution_count": 6,
     "metadata": {},
     "output_type": "execute_result"
    }
   ],
   "execution_count": 6
  },
  {
   "cell_type": "markdown",
   "id": "e4617858-ad9c-42eb-a4c3-6bfb7108cdd2",
   "metadata": {},
   "source": [
    "### 使用 Faiss 作为向量数据库，持久化存储房产销售 问答对（QA-Pair）"
   ]
  },
  {
   "cell_type": "code",
   "id": "508c2ab2-e187-424f-a43c-ca3d3b1a0550",
   "metadata": {
    "ExecuteTime": {
     "end_time": "2024-07-17T15:09:12.306967Z",
     "start_time": "2024-07-17T15:09:09.024610Z"
    }
   },
   "source": [
    "from langchain.embeddings.openai import OpenAIEmbeddings\n",
    "from langchain.vectorstores import FAISS\n",
    "\n",
    "db = FAISS.from_documents(docs, OpenAIEmbeddings())"
   ],
   "outputs": [
    {
     "name": "stderr",
     "output_type": "stream",
     "text": [
      "E:\\code\\edward\\openai-quickstart\\.venv\\lib\\site-packages\\langchain_core\\_api\\deprecation.py:119: LangChainDeprecationWarning: The class `OpenAIEmbeddings` was deprecated in LangChain 0.0.9 and will be removed in 0.3.0. An updated version of the class exists in the langchain-openai package and should be used instead. To use it run `pip install -U langchain-openai` and import as `from langchain_openai import OpenAIEmbeddings`.\n",
      "  warn_deprecated(\n"
     ]
    }
   ],
   "execution_count": 7
  },
  {
   "cell_type": "code",
   "id": "250e0873-95e2-4372-98a5-68c0feb304bb",
   "metadata": {
    "ExecuteTime": {
     "end_time": "2024-07-17T15:09:12.323148Z",
     "start_time": "2024-07-17T15:09:12.307964Z"
    }
   },
   "source": "query = \"如何确保我的隐私和交易安全？\"",
   "outputs": [],
   "execution_count": 8
  },
  {
   "cell_type": "code",
   "id": "0d18fcc6-c2be-434b-b8de-9648ac6f83f4",
   "metadata": {
    "ExecuteTime": {
     "end_time": "2024-07-17T15:09:12.665299Z",
     "start_time": "2024-07-17T15:09:12.323148Z"
    }
   },
   "source": [
    "answer_list = db.similarity_search(query)"
   ],
   "outputs": [],
   "execution_count": 9
  },
  {
   "cell_type": "code",
   "id": "e689667e-7a45-40d6-9eae-4e52cbc7daab",
   "metadata": {
    "ExecuteTime": {
     "end_time": "2024-07-17T15:09:12.681038Z",
     "start_time": "2024-07-17T15:09:12.667292Z"
    }
   },
   "source": [
    "for ans in answer_list:\n",
    "    print(ans.page_content + \"\\n\")"
   ],
   "outputs": [
    {
     "name": "stdout",
     "output_type": "stream",
     "text": [
      "[客户问题] 如何确保我的隐私和交易安全？\n",
      "[销售回答] 保护客户的隐私和交易安全是我们的首要任务。我们使用加密技术来保护所有的交易信息，并严格遵守数据保护法规，确保您的信息安全。\n",
      "\n",
      "[客户问题] 如何确保敏感货物的隐私和安全？\n",
      "[销售回答] 对于敏感货物，我们采取额外的保密和安全措施，包括但不限于专用运输和加密的数据处理。\n",
      "\n",
      "[客户问题] 如何能保证我的货物在运输中不会被偷或丢失？\n",
      "[销售回答] 我们采用多重安全措施保护货物，包括密封性良好的包装、安全的运输方式和全程监控系统。\n",
      "\n",
      "[客户问题] 你们的服务有哪些保障措施？\n",
      "[销售回答] 我们为所有服务提供保障措施，包括货物保险、实时追踪以及24小时客户服务支持，确保您的货物安全及时到达。\n",
      "\n"
     ]
    }
   ],
   "execution_count": 10
  },
  {
   "cell_type": "code",
   "id": "a6cc47bf-1566-472f-84d2-a46bd634907c",
   "metadata": {
    "ExecuteTime": {
     "end_time": "2024-07-17T15:09:12.696959Z",
     "start_time": "2024-07-17T15:09:12.682037Z"
    }
   },
   "source": "db.save_local(\"customer_service_specialist_data\")",
   "outputs": [],
   "execution_count": 11
  }
 ],
 "metadata": {
  "kernelspec": {
   "display_name": "Python 3 (ipykernel)",
   "language": "python",
   "name": "python3"
  },
  "language_info": {
   "codemirror_mode": {
    "name": "ipython",
    "version": 3
   },
   "file_extension": ".py",
   "mimetype": "text/x-python",
   "name": "python",
   "nbconvert_exporter": "python",
   "pygments_lexer": "ipython3",
   "version": "3.10.14"
  }
 },
 "nbformat": 4,
 "nbformat_minor": 5
}
